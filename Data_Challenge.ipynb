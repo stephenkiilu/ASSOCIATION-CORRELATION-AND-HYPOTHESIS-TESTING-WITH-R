{
  "cells": [
    {
      "cell_type": "markdown",
      "metadata": {
        "id": "view-in-github",
        "colab_type": "text"
      },
      "source": [
        "<a href=\"https://colab.research.google.com/github/stephenkiilu/ASSOCIATION-CORRELATION-AND-HYPOTHESIS-TESTING-WITH-R/blob/main/Data_Challenge.ipynb\" target=\"_parent\"><img src=\"https://colab.research.google.com/assets/colab-badge.svg\" alt=\"Open In Colab\"/></a>"
      ]
    },
    {
      "cell_type": "code",
      "execution_count": 191,
      "metadata": {
        "id": "6nkSBxMP-TOj"
      },
      "outputs": [],
      "source": [
        "import numpy as np\n",
        "import matplotlib.pyplot as plt\n",
        "from sklearn.decomposition import PCA"
      ]
    },
    {
      "cell_type": "markdown",
      "metadata": {
        "id": "zEByk5wz-TOl"
      },
      "source": [
        "## Loading data\n",
        "***"
      ]
    },
    {
      "cell_type": "markdown",
      "source": [
        ""
      ],
      "metadata": {
        "id": "3kNRPreS_SvY"
      }
    },
    {
      "cell_type": "code",
      "execution_count": 3,
      "metadata": {
        "id": "4QJSsfky-TOm"
      },
      "outputs": [],
      "source": [
        "X = np.loadtxt('Xtr.csv', skiprows=1, usecols=(1,), dtype=str, delimiter=',')\n",
        "y = np.loadtxt('Ytr.csv', skiprows=1, usecols=(1,), dtype=int, delimiter=',')\n",
        "X_test = np.loadtxt('Xte.csv', skiprows=1, usecols=(1,), dtype=str, delimiter=',')\n",
        "X_tr_vectors = np.loadtxt('Xtr_vectors.csv', skiprows=1, usecols=(1,), dtype=str, delimiter=',')\n",
        "X_te_vectors = np.loadtxt('Xte_vectors.csv', skiprows=1, usecols=(1,), dtype=str, delimiter=',')\n",
        "\n",
        "X_full = np.hstack([X, X_test])\n",
        "y = 2*y - 1."
      ]
    },
    {
      "cell_type": "markdown",
      "metadata": {
        "id": "CfA7XUpm-TOm"
      },
      "source": [
        "## Utility functions\n",
        "---"
      ]
    },
    {
      "cell_type": "code",
      "execution_count": 25,
      "metadata": {
        "id": "2jwfGi_S-TOn",
        "outputId": "80de8f3d-f381-4abc-a3b2-277caea56cb6",
        "colab": {
          "base_uri": "https://localhost:8080/"
        }
      },
      "outputs": [
        {
          "output_type": "execute_result",
          "data": {
            "text/plain": [
              "[0, 0, 1, 2, 2, 3]"
            ]
          },
          "metadata": {},
          "execution_count": 25
        }
      ],
      "source": [
        "def base2int(c):\n",
        "    return {'A': 0, 'C': 1, 'G': 2, 'T': 3}.get(c, 1)\n",
        "\n",
        "[base2int(c) for c in 'AACGGT']"
      ]
    },
    {
      "cell_type": "code",
      "source": [
        "X_tr_vectors1 = np.loadtxt('Xtr_vectors.csv', skiprows=1, dtype=str, delimiter=',')\n",
        "XX=X_tr_vectors1[:,1:]\n",
        "YY=y\n",
        "print(XX.shape)\n",
        "print(YY.shape)"
      ],
      "metadata": {
        "id": "Kvr9VpUb5KVD",
        "colab": {
          "base_uri": "https://localhost:8080/"
        },
        "outputId": "54633030-f8fb-4cf0-866e-60aab0271247"
      },
      "execution_count": 143,
      "outputs": [
        {
          "output_type": "stream",
          "name": "stdout",
          "text": [
            "(2000, 64)\n",
            "(2000,)\n"
          ]
        }
      ]
    },
    {
      "cell_type": "code",
      "source": [
        "#all data\n",
        "x_test=np.loadtxt('Xte_vectors.csv', skiprows=1, dtype=str, delimiter=',')[:,1:]\n",
        "x_test\n",
        "xx_train=X_tr_vectors1[:,1:]\n",
        "x_test.shape\n",
        "y"
      ],
      "metadata": {
        "colab": {
          "base_uri": "https://localhost:8080/"
        },
        "id": "igQFzO55vpJl",
        "outputId": "80a625d8-097a-4082-84b5-6cd3ff32b06a"
      },
      "execution_count": 180,
      "outputs": [
        {
          "output_type": "execute_result",
          "data": {
            "text/plain": [
              "(1000, 64)"
            ]
          },
          "metadata": {},
          "execution_count": 180
        }
      ]
    },
    {
      "cell_type": "code",
      "source": [
        "Xtrain=X_tr_vectors1[:,1:]\n"
      ],
      "metadata": {
        "id": "QQZW7hL2sDD1"
      },
      "execution_count": null,
      "outputs": []
    },
    {
      "cell_type": "code",
      "source": [
        "from sklearn.model_selection import train_test_split\n",
        "from sklearn.linear_model import LogisticRegression\n",
        "from sklearn.metrics import accuracy_score, roc_auc_score\n",
        "\n",
        "\n",
        "X_train, X_test, y_train, y_test = train_test_split(XX, YY, test_size=0.33, random_state=42)\n",
        "clf=LogisticRegression(random_state=0,C=10)\n",
        "clf.fit(X_train,y_train)\n",
        "pred=clf.predict(X_test)\n",
        "\n",
        "accuracy_score(y_test, pred)"
      ],
      "metadata": {
        "colab": {
          "base_uri": "https://localhost:8080/"
        },
        "id": "XbV7H3eQj2bC",
        "outputId": "5879bb8c-74ed-4bb7-d5f8-6f96f833fa97"
      },
      "execution_count": 137,
      "outputs": [
        {
          "output_type": "stream",
          "name": "stderr",
          "text": [
            "/usr/local/lib/python3.7/dist-packages/sklearn/base.py:566: FutureWarning: Arrays of bytes/strings is being converted to decimal numbers if dtype='numeric'. This behavior is deprecated in 0.24 and will be removed in 1.1 (renaming of 0.26). Please convert your data to numeric values explicitly instead.\n",
            "  X = check_array(X, **check_params)\n"
          ]
        },
        {
          "output_type": "execute_result",
          "data": {
            "text/plain": [
              "0.9590909090909091"
            ]
          },
          "metadata": {},
          "execution_count": 137
        }
      ]
    },
    {
      "cell_type": "code",
      "source": [
        "from sklearn.svm import LinearSVC\n",
        "\n",
        "# Parameters\n",
        "C = 10\n",
        "\n",
        "# Create the model\n",
        "clf = LinearSVC(penalty='l2', loss='hinge', C=C)\n",
        "# Train the model\n",
        "clf.fit(X_train, y_train)\n",
        "clf.__dict__\n",
        "\n",
        "y_pred = clf.predict(X_test)\n",
        "\n",
        "\n",
        "def error(y_pred, y_true):\n",
        "    e = (y_pred != y_true).mean()\n",
        "    return e\n",
        "\n",
        "\n",
        "# w = clf.coef_[0]\n",
        "# b = clf.intercept_[0]\n",
        "# print('Model parameters:')\n",
        "# print('w: {}'.format(w))\n",
        "# print('b: {}'.format(b))\n",
        "\n",
        "\n",
        "# Testing error\n",
        "y_pred = clf.predict(X_test)\n",
        "err_test = error(y_pred, y_test)\n",
        "print('Testing error = {:.1%}'.format(err_test))\n",
        "\n",
        "\n",
        "accuracy_score(y_test, y_pred)"
      ],
      "metadata": {
        "colab": {
          "base_uri": "https://localhost:8080/"
        },
        "id": "gRRJCCMEqGNY",
        "outputId": "00fbf704-b92c-4ab5-c44d-a301cc90caaf"
      },
      "execution_count": 138,
      "outputs": [
        {
          "output_type": "stream",
          "name": "stdout",
          "text": [
            "Testing error = 4.4%\n"
          ]
        },
        {
          "output_type": "stream",
          "name": "stderr",
          "text": [
            "/usr/local/lib/python3.7/dist-packages/sklearn/svm/_base.py:1208: ConvergenceWarning: Liblinear failed to converge, increase the number of iterations.\n",
            "  ConvergenceWarning,\n",
            "/usr/local/lib/python3.7/dist-packages/sklearn/base.py:566: FutureWarning: Arrays of bytes/strings is being converted to decimal numbers if dtype='numeric'. This behavior is deprecated in 0.24 and will be removed in 1.1 (renaming of 0.26). Please convert your data to numeric values explicitly instead.\n",
            "  X = check_array(X, **check_params)\n",
            "/usr/local/lib/python3.7/dist-packages/sklearn/base.py:566: FutureWarning: Arrays of bytes/strings is being converted to decimal numbers if dtype='numeric'. This behavior is deprecated in 0.24 and will be removed in 1.1 (renaming of 0.26). Please convert your data to numeric values explicitly instead.\n",
            "  X = check_array(X, **check_params)\n"
          ]
        },
        {
          "output_type": "execute_result",
          "data": {
            "text/plain": [
              "0.956060606060606"
            ]
          },
          "metadata": {},
          "execution_count": 138
        }
      ]
    },
    {
      "cell_type": "code",
      "source": [
        "#PCA visualization\n",
        "pca = PCA(n_components=5)\n",
        "components = pca.fit_transform(xx_train)\n",
        "plt.scatter(components[:,0],components[:,1],c=y)\n",
        "# plt.scatter(components[:,2],components[:,4],c=y)"
      ],
      "metadata": {
        "colab": {
          "base_uri": "https://localhost:8080/",
          "height": 287
        },
        "id": "8wI8pXeOCJ-X",
        "outputId": "ccdf00e5-6d84-4817-deff-28251a286687"
      },
      "execution_count": 224,
      "outputs": [
        {
          "output_type": "execute_result",
          "data": {
            "text/plain": [
              "<matplotlib.collections.PathCollection at 0x7fe9320ed510>"
            ]
          },
          "metadata": {},
          "execution_count": 224
        },
        {
          "output_type": "display_data",
          "data": {
            "text/plain": [
              "<Figure size 432x288 with 1 Axes>"
            ],
            "image/png": "[encoded data removed]"
          },
          "metadata": {
            "needs_background": "light"
          }
        }
      ]
    },
    {
      "cell_type": "code",
      "source": [
        "### predictions\n",
        "clf=LogisticRegression(random_state=0,C=10)\n",
        "clf.fit(xx_train,y)\n",
        "predictions1=clf.predict(x_test)\n",
        "predictions1.shape ## logistic\n",
        "\n",
        "\n",
        "C = 1\n",
        "clf1 = LinearSVC(penalty='l2', loss='hinge', C=10)\n",
        "clf1.fit(xx_train,y)\n",
        "clf1.fit(xx_train,y)\n",
        "predictions2=clf1.predict(x_test)\n",
        "predictions2.shape ## svm\n",
        "\n",
        "\n",
        "\n",
        "err_test = error(predictions1,predictions2)\n",
        "print('Testing error = {:.1%}'.format(err_test))\n",
        "\n",
        "\n",
        "accuracy_score(predictions1,predictions2)\n",
        "# accuracy_score(y_test, y_pred)\n",
        "\n"
      ],
      "metadata": {
        "colab": {
          "base_uri": "https://localhost:8080/"
        },
        "id": "ZKE1LkOkzdDd",
        "outputId": "e3f25608-3d0d-43c5-f7b1-be247b024ac7"
      },
      "execution_count": 238,
      "outputs": [
        {
          "output_type": "stream",
          "name": "stderr",
          "text": [
            "/usr/local/lib/python3.7/dist-packages/sklearn/base.py:566: FutureWarning: Arrays of bytes/strings is being converted to decimal numbers if dtype='numeric'. This behavior is deprecated in 0.24 and will be removed in 1.1 (renaming of 0.26). Please convert your data to numeric values explicitly instead.\n",
            "  X = check_array(X, **check_params)\n",
            "/usr/local/lib/python3.7/dist-packages/sklearn/svm/_base.py:1208: ConvergenceWarning: Liblinear failed to converge, increase the number of iterations.\n",
            "  ConvergenceWarning,\n"
          ]
        },
        {
          "output_type": "stream",
          "name": "stdout",
          "text": [
            "Testing error = 0.7%\n"
          ]
        },
        {
          "output_type": "stream",
          "name": "stderr",
          "text": [
            "/usr/local/lib/python3.7/dist-packages/sklearn/svm/_base.py:1208: ConvergenceWarning: Liblinear failed to converge, increase the number of iterations.\n",
            "  ConvergenceWarning,\n",
            "/usr/local/lib/python3.7/dist-packages/sklearn/base.py:566: FutureWarning: Arrays of bytes/strings is being converted to decimal numbers if dtype='numeric'. This behavior is deprecated in 0.24 and will be removed in 1.1 (renaming of 0.26). Please convert your data to numeric values explicitly instead.\n",
            "  X = check_array(X, **check_params)\n"
          ]
        },
        {
          "output_type": "execute_result",
          "data": {
            "text/plain": [
              "0.993"
            ]
          },
          "metadata": {},
          "execution_count": 238
        }
      ]
    },
    {
      "cell_type": "code",
      "source": [
        "### saving\n",
        "y_save = np.vstack([1 + np.arange(len(predictions2)), predictions2]).T\n",
        "np.savetxt('sample_prediction2.csv', y_save,\n",
        "           delimiter=',', header='Id,Covid', fmt='%i', comments='')"
      ],
      "metadata": {
        "id": "xEzzugDN3HAu"
      },
      "execution_count": 240,
      "outputs": []
    },
    {
      "cell_type": "markdown",
      "metadata": {
        "id": "0YMijpJW-TOn"
      },
      "source": [
        "## Model Selection\n",
        "***"
      ]
    },
    {
      "cell_type": "code",
      "source": [
        "from sklearn.svm import SVC\n",
        "clf3=SVC(C=10)\n",
        "clf3.fit(xx_train,y)\n",
        "predictions3=clf3.predict(x_test)\n",
        "accuracy_score(predictions3,preds)"
      ],
      "metadata": {
        "colab": {
          "base_uri": "https://localhost:8080/"
        },
        "id": "dUjvsVr4io85",
        "outputId": "2f78f3f2-8210-4ad8-f19d-73ece1e520fe"
      },
      "execution_count": 261,
      "outputs": [
        {
          "output_type": "execute_result",
          "data": {
            "text/plain": [
              "0.503"
            ]
          },
          "metadata": {},
          "execution_count": 261
        }
      ]
    },
    {
      "cell_type": "code",
      "source": [
        "preds=np.where(predictions3==1,1,0)"
      ],
      "metadata": {
        "id": "chAFGa6lm20Z"
      },
      "execution_count": 256,
      "outputs": []
    },
    {
      "cell_type": "code",
      "source": [
        "y_save = np.vstack([1 + np.arange(len(predictions3)), preds]).T\n",
        "np.savetxt('sample_prediction3.csv', y_save,\n",
        "           delimiter=',', header='Id,Covid', fmt='%i', comments='')"
      ],
      "metadata": {
        "id": "nZcD-qwhva-w"
      },
      "execution_count": 258,
      "outputs": []
    },
    {
      "cell_type": "code",
      "source": [
        "y_save[0:10]\n",
        "predictions3[0:10]"
      ],
      "metadata": {
        "colab": {
          "base_uri": "https://localhost:8080/"
        },
        "id": "Y3jKvVSrnhOh",
        "outputId": "c7188757-d7a8-41d2-b969-fbf2151bef3a"
      },
      "execution_count": 265,
      "outputs": [
        {
          "output_type": "execute_result",
          "data": {
            "text/plain": [
              "array([-1.,  1.,  1., -1.,  1.,  1.,  1., -1.,  1.,  1.])"
            ]
          },
          "metadata": {},
          "execution_count": 265
        }
      ]
    },
    {
      "cell_type": "code",
      "source": [
        "preds1=np.where(predictions1==1,1,0)\n",
        "y_save = np.vstack([1 + np.arange(len(predictions1)), preds1]).T\n",
        "np.savetxt('sample_prediction4.csv', y_save,\n",
        "           delimiter=',', header='Id,Covid', fmt='%i', comments='')\n"
      ],
      "metadata": {
        "id": "83aAA-fOoP7U"
      },
      "execution_count": 273,
      "outputs": []
    },
    {
      "cell_type": "code",
      "execution_count": null,
      "metadata": {
        "id": "X5wFRqro-TOo"
      },
      "outputs": [],
      "source": [
        "# Split into X, y into training and validation sets\n",
        "# Choose model(s)\n",
        "# Tune parameters"
      ]
    },
    {
      "cell_type": "markdown",
      "metadata": {
        "id": "oAaYVMly-TOo"
      },
      "source": [
        "Saving predictions\n",
        "---\n",
        "***"
      ]
    },
    {
      "cell_type": "code",
      "execution_count": null,
      "metadata": {
        "id": "p-L3udgg-TOp"
      },
      "outputs": [],
      "source": [
        "# Predict labels\n",
        "y_test = (np.random.rand(len(X_test)) < 0.5) # dummy predictions"
      ]
    },
    {
      "cell_type": "code",
      "execution_count": null,
      "metadata": {
        "id": "BoATBvxu-TOp",
        "outputId": "763d33e6-8547-4e09-eec2-2f3641335168"
      },
      "outputs": [
        {
          "data": {
            "text/plain": [
              "array([[ 1,  0],\n",
              "       [ 2,  0],\n",
              "       [ 3,  0],\n",
              "       [ 4,  0],\n",
              "       [ 5,  1],\n",
              "       [ 6,  0],\n",
              "       [ 7,  1],\n",
              "       [ 8,  0],\n",
              "       [ 9,  0],\n",
              "       [10,  1]])"
            ]
          },
          "execution_count": 6,
          "metadata": {},
          "output_type": "execute_result"
        }
      ],
      "source": [
        "# Add the column of Ids\n",
        "y_save = np.vstack([1 + np.arange(len(y_test)), y_test]).T\n",
        "y_save[:10]"
      ]
    },
    {
      "cell_type": "code",
      "execution_count": null,
      "metadata": {
        "id": "Giq9ALT0-TOp"
      },
      "outputs": [],
      "source": [
        "# Save as a csv file\n",
        "np.savetxt('sample_prediction.csv', y_save,\n",
        "           delimiter=',', header='Id,Covid', fmt='%i', comments='')"
      ]
    },
    {
      "cell_type": "markdown",
      "metadata": {
        "id": "LE9Zbvrv-TOq"
      },
      "source": [
        "`sample_prediction.csv` looks like this:\n",
        "```\n",
        "Id, Covid\n",
        "1, 0\n",
        "2, 0\n",
        ".\n",
        ".\n",
        ".\n",
        "1000, 1\n",
        "```"
      ]
    }
  ],
  "metadata": {
    "kernelspec": {
      "display_name": "Python 3 (ipykernel)",
      "language": "python",
      "name": "python3"
    },
    "language_info": {
      "codemirror_mode": {
        "name": "ipython",
        "version": 3
      },
      "file_extension": ".py",
      "mimetype": "text/x-python",
      "name": "python",
      "nbconvert_exporter": "python",
      "pygments_lexer": "ipython3",
      "version": "3.7.6"
    },
    "colab": {
      "name": " Data Challenge",
      "provenance": [],
      "collapsed_sections": [],
      "include_colab_link": true
    }
  },
  "nbformat": 4,
  "nbformat_minor": 0
}